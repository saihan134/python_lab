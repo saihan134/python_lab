{
  "cells": [
    {
      "cell_type": "code",
      "execution_count": null,
      "metadata": {
        "id": "auf-ReRulii1",
        "outputId": "1e0706fc-8c33-4540-930d-ac6c7279d934"
      },
      "outputs": [
        {
          "name": "stdout",
          "output_type": "stream",
          "text": [
            "1\n"
          ]
        },
        {
          "data": {
            "text/plain": [
              "<list_iterator at 0x1766be983a0>"
            ]
          },
          "execution_count": 10,
          "metadata": {},
          "output_type": "execute_result"
        }
      ],
      "source": [
        "#itarator\n",
        "L = [1,2,3,4,5]\n",
        "it = iter(L)\n",
        "print(next(it))\n",
        "it"
      ]
    },
    {
      "cell_type": "code",
      "execution_count": null,
      "metadata": {
        "id": "EUUSEpYPlii2",
        "outputId": "c0733a68-74ff-4fdc-990f-0c962d7906b9"
      },
      "outputs": [
        {
          "name": "stdout",
          "output_type": "stream",
          "text": [
            "<class 'list_iterator'>\n",
            "<class 'list'>\n"
          ]
        }
      ],
      "source": [
        "print(type(it))\n",
        "print(type(L))"
      ]
    },
    {
      "cell_type": "code",
      "execution_count": null,
      "metadata": {
        "id": "cDES7-BMlii2",
        "outputId": "b4ad6975-171a-41df-85cf-07f912d988f9"
      },
      "outputs": [
        {
          "data": {
            "text/plain": [
              "3"
            ]
          },
          "execution_count": 14,
          "metadata": {},
          "output_type": "execute_result"
        }
      ],
      "source": [
        "next(it)"
      ]
    },
    {
      "cell_type": "code",
      "execution_count": null,
      "metadata": {
        "id": "SmhBl9Fmlii3",
        "outputId": "e8b47865-f017-4761-8f2c-1f88dfecc223"
      },
      "outputs": [
        {
          "name": "stdout",
          "output_type": "stream",
          "text": [
            "1\n",
            "2\n",
            "3\n",
            "4\n",
            "5\n"
          ]
        }
      ],
      "source": [
        "for i in iter(L):\n",
        "    print(i)"
      ]
    },
    {
      "cell_type": "code",
      "execution_count": null,
      "metadata": {
        "id": "ucPdJ29Hlii3",
        "outputId": "393efb54-3a15-449f-98e3-c19ddc31d245"
      },
      "outputs": [
        {
          "data": {
            "text/plain": [
              "tuple"
            ]
          },
          "execution_count": 16,
          "metadata": {},
          "output_type": "execute_result"
        }
      ],
      "source": [
        "#materialized itarator\n",
        "L = [1,2,3,4,5]\n",
        "it = iter(L)\n",
        "t = tuple(it)\n",
        "type(t)\n",
        "\n"
      ]
    },
    {
      "cell_type": "code",
      "execution_count": null,
      "metadata": {
        "id": "EyJZfkSclii3",
        "outputId": "68243435-8207-4649-a8ac-591738a38ada"
      },
      "outputs": [
        {
          "data": {
            "text/plain": [
              "(1, 2, 3, 4, 5)"
            ]
          },
          "execution_count": 17,
          "metadata": {},
          "output_type": "execute_result"
        }
      ],
      "source": [
        "#unpacking itarator\n",
        "L = [1,2,3,4,5]\n",
        "it = iter(L)\n",
        "a,b,c,d,e = it\n",
        "a,b,c,d,e"
      ]
    },
    {
      "cell_type": "code",
      "execution_count": null,
      "metadata": {
        "id": "PdG8RoVflii3",
        "outputId": "afdf585e-c215-4c6b-b083-0b01c9ab9034"
      },
      "outputs": [
        {
          "name": "stdout",
          "output_type": "stream",
          "text": [
            "jan 1\n",
            "feb 2\n",
            "mar 3\n",
            "apr 4\n",
            "may 5\n",
            "jun 6\n",
            "jul 7\n",
            "aug 8\n",
            "sep 9\n",
            "oct 10\n",
            "nov 11\n",
            "dec 12\n"
          ]
        }
      ],
      "source": [
        "#datatype that support iterator\n",
        "months ={\"jan\":1,\"feb\":2,\"mar\":3,\"apr\":4,\"may\":5,\"jun\":6,\"jul\":7,\"aug\":8,\"sep\":9,\"oct\":10,\"nov\":11,\"dec\":12}\n",
        "for month in months:\n",
        "    print(month,months[month])\n"
      ]
    },
    {
      "cell_type": "code",
      "execution_count": null,
      "metadata": {
        "id": "35FnFpVWlii3",
        "outputId": "5655c911-6a72-4021-83fa-ba71eb74f7db"
      },
      "outputs": [
        {
          "data": {
            "text/plain": [
              "[2, 4, 6]"
            ]
          },
          "execution_count": 20,
          "metadata": {},
          "output_type": "execute_result"
        }
      ],
      "source": [
        "l=[1,2,3]\n",
        "[2*i for i in l]"
      ]
    },
    {
      "cell_type": "code",
      "execution_count": null,
      "metadata": {
        "id": "j5kHlBmflii4",
        "outputId": "406edebb-ad9d-448e-b970-83baac8cfbe8"
      },
      "outputs": [
        {
          "data": {
            "text/plain": [
              "6"
            ]
          },
          "execution_count": 21,
          "metadata": {},
          "output_type": "execute_result"
        }
      ],
      "source": [
        "#list comprehension and generator\n",
        "l=[1,2,3]\n",
        "g=(2*i for i in l)\n",
        "next(g)\n",
        "next(g)\n",
        "next(g)"
      ]
    },
    {
      "cell_type": "code",
      "execution_count": null,
      "metadata": {
        "id": "ggrpnPIelii4",
        "outputId": "61259831-a6af-4333-d996-1a59f786b8be"
      },
      "outputs": [
        {
          "data": {
            "text/plain": [
              "<generator object <genexpr> at 0x000001766C491630>"
            ]
          },
          "execution_count": 22,
          "metadata": {},
          "output_type": "execute_result"
        }
      ],
      "source": [
        "line_list = ['  Presidency University\\n', ' Computer Science Department\\n', ' Dept Of CSE \\n', '  \\n']\n",
        "\n",
        "stripped_iter = (line.strip() for line in line_list)\n",
        "stripped_iter"
      ]
    },
    {
      "cell_type": "code",
      "execution_count": null,
      "metadata": {
        "id": "MQij2Qzqlii4",
        "outputId": "6dbdcde0-8476-4286-c842-807641504b71"
      },
      "outputs": [
        {
          "name": "stdout",
          "output_type": "stream",
          "text": [
            "['Presidency University', 'Computer Science Department', 'Dept Of CSE', '']\n"
          ]
        }
      ],
      "source": [
        "# List comprehension\n",
        "stripped_list = [line.strip() for line in line_list]\n",
        "print(stripped_list)"
      ]
    },
    {
      "cell_type": "code",
      "execution_count": null,
      "metadata": {
        "id": "pkse4iUxlii4",
        "outputId": "578de174-a7a8-4c5f-f445-0571759878c9"
      },
      "outputs": [
        {
          "name": "stdout",
          "output_type": "stream",
          "text": [
            "['Presidency University', 'Computer Science Department']\n"
          ]
        }
      ],
      "source": [
        "#printing only certain elements using if condition in list comprehension[printing only element where length is greater than 15]\n",
        "stripped_list = [line.strip() for line in line_list if len(line) > 15]\n",
        "print(stripped_list)"
      ]
    },
    {
      "cell_type": "code",
      "execution_count": null,
      "metadata": {
        "id": "P0xHqgxvlii4",
        "outputId": "be2dd36b-baba-4d99-d19f-e34ed5565744"
      },
      "outputs": [
        {
          "name": "stdout",
          "output_type": "stream",
          "text": [
            "1\n",
            "2\n",
            "3\n"
          ]
        }
      ],
      "source": [
        "#basic generator function\n",
        "def simple_gen():\n",
        "    yield 1\n",
        "    yield 2\n",
        "    yield 3\n",
        "\n",
        "for value in simple_gen():\n",
        "    print(value)\n",
        "\n"
      ]
    },
    {
      "cell_type": "code",
      "execution_count": null,
      "metadata": {
        "id": "WoFQbhY5lii4",
        "outputId": "e8f2a456-7a67-49b4-9d51-ddfd9f4db911"
      },
      "outputs": [
        {
          "name": "stdout",
          "output_type": "stream",
          "text": [
            "0\n",
            "1\n"
          ]
        }
      ],
      "source": [
        "#use of generate_ints funciton in generator\n",
        "def generate_ints(N):\n",
        "    for i in range(N):\n",
        "        yield i\n",
        "\n",
        "\n",
        "gen = generate_ints(3)\n",
        "print(next(gen))\n",
        "print(next(gen))\n"
      ]
    },
    {
      "cell_type": "code",
      "execution_count": null,
      "metadata": {
        "id": "EkVP1iNelii5",
        "outputId": "1fb70a0e-e72e-4e42-f93f-99a83e24e648"
      },
      "outputs": [
        {
          "name": "stdout",
          "output_type": "stream",
          "text": [
            "0\n",
            "1\n",
            "8\n",
            "9\n"
          ]
        }
      ],
      "source": [
        "#send function in generator\n",
        "#use of send function in generator\n",
        "#send function is used to send value to generator\n",
        "def counter(maximum):\n",
        "    count = 0\n",
        "    while count < maximum:\n",
        "        val = (yield count)\n",
        "        # If value provided, change counter\n",
        "        if val is not None:\n",
        "            count = val\n",
        "        else:\n",
        "            count += 1\n",
        "\n",
        "it = counter(10)\n",
        "print(next(it))\n",
        "print(next(it))\n",
        "print(it.send(8))\n",
        "print(next(it))\n",
        "\n"
      ]
    },
    {
      "cell_type": "code",
      "execution_count": null,
      "metadata": {
        "id": "yIh4e8fGlii5",
        "outputId": "9078f7d4-f27d-47ae-c72c-91171bc3e288"
      },
      "outputs": [
        {
          "name": "stdout",
          "output_type": "stream",
          "text": [
            "0\n",
            "1\n",
            "Caught a ValueError\n",
            "2\n",
            "3\n"
          ]
        }
      ],
      "source": [
        "#throw function in generator\n",
        "#throw function is used to throw exception in generator\n",
        "\n",
        "def counter(maximum):\n",
        "    count = 0\n",
        "    while count < maximum:\n",
        "        try:\n",
        "            val = (yield count)\n",
        "        except ValueError:\n",
        "            print(\"Caught a ValueError\")\n",
        "        if val is not None:\n",
        "            count = val\n",
        "        else:\n",
        "            count += 1\n",
        "\n",
        "it = counter(10)\n",
        "print(next(it))\n",
        "print(next(it))\n",
        "print(it.throw(ValueError))\n",
        "print(next(it))\n",
        "\n"
      ]
    },
    {
      "cell_type": "code",
      "execution_count": null,
      "metadata": {
        "id": "ZXHlB8s2lii5",
        "outputId": "f51d55c5-e7ab-4463-d08e-bfd40cceb607"
      },
      "outputs": [
        {
          "name": "stdout",
          "output_type": "stream",
          "text": [
            "0\n",
            "1\n",
            "Stopping the counter\n"
          ]
        },
        {
          "ename": "StopIteration",
          "evalue": "",
          "output_type": "error",
          "traceback": [
            "\u001b[1;31m---------------------------------------------------------------------------\u001b[0m",
            "\u001b[1;31mStopIteration\u001b[0m                             Traceback (most recent call last)",
            "Cell \u001b[1;32mIn[37], line 21\u001b[0m\n\u001b[0;32m     19\u001b[0m \u001b[38;5;28mprint\u001b[39m(\u001b[38;5;28mnext\u001b[39m(it))\n\u001b[0;32m     20\u001b[0m it\u001b[38;5;241m.\u001b[39mclose()\n\u001b[1;32m---> 21\u001b[0m \u001b[38;5;28mprint\u001b[39m(\u001b[38;5;28;43mnext\u001b[39;49m\u001b[43m(\u001b[49m\u001b[43mit\u001b[49m\u001b[43m)\u001b[49m)\n",
            "\u001b[1;31mStopIteration\u001b[0m: "
          ]
        }
      ],
      "source": [
        "#close function in generator\n",
        "#close function is used to close generator\n",
        "\n",
        "def counter(maximum):\n",
        "    count = 0\n",
        "    try:\n",
        "        while count < maximum:\n",
        "            val = (yield count)\n",
        "            if val is not None:\n",
        "                count = val\n",
        "            else:\n",
        "                count += 1\n",
        "    finally:\n",
        "        print(\"Stopping the counter\")\n",
        "\n",
        "it = counter(10)\n",
        "print(next(it))\n",
        "print(next(it))\n",
        "it.close()\n",
        "print(next(it))\n"
      ]
    },
    {
      "cell_type": "code",
      "execution_count": null,
      "metadata": {
        "id": "CKXd_fL3lii5",
        "outputId": "928d011d-2e0d-4a5d-c87b-975687452e78"
      },
      "outputs": [
        {
          "data": {
            "text/plain": [
              "['SENTENCE', 'FRAGMENT']"
            ]
          },
          "execution_count": 38,
          "metadata": {},
          "output_type": "execute_result"
        }
      ],
      "source": [
        "def upper(s):\n",
        "  return s.upper()\n",
        "\n",
        "list(map(upper,['sentence', 'fragment']))"
      ]
    },
    {
      "cell_type": "code",
      "execution_count": null,
      "metadata": {
        "id": "JpT-v5w4lii5",
        "outputId": "e3cfa360-cf24-40fa-9578-d401c4826c2e"
      },
      "outputs": [
        {
          "data": {
            "text/plain": [
              "[0, 2, 4, 6, 8]"
            ]
          },
          "execution_count": 42,
          "metadata": {},
          "output_type": "execute_result"
        }
      ],
      "source": [
        "#filter function\n",
        "def is_even(x):\n",
        "    return x % 2 == 0\n",
        "\n",
        "list(filter(is_even, range(10)))\n",
        "\n"
      ]
    },
    {
      "cell_type": "code",
      "execution_count": null,
      "metadata": {
        "id": "dAIKmnUVlii5",
        "outputId": "53e21085-2e0b-4998-8042-4a3208d2743c"
      },
      "outputs": [
        {
          "name": "stdout",
          "output_type": "stream",
          "text": [
            "0 a\n",
            "1 b\n",
            "2 c\n"
          ]
        }
      ],
      "source": [
        "#enumerate function\n",
        "#enumerate function is used to add index to the iterable\n",
        "l = ['a', 'b', 'c']\n",
        "for index, value in enumerate(l):\n",
        "    print(index, value)\n",
        "\n"
      ]
    },
    {
      "cell_type": "code",
      "execution_count": null,
      "metadata": {
        "id": "5uVjTvXdlii5",
        "outputId": "8c298305-ad68-49b5-f28c-49a6fd2ac01d"
      },
      "outputs": [
        {
          "data": {
            "text/plain": [
              "[1, 2, 3, 4]"
            ]
          },
          "execution_count": 44,
          "metadata": {},
          "output_type": "execute_result"
        }
      ],
      "source": [
        "#sort method\n",
        "l = [4, 3, 2, 1]\n",
        "l.sort()\n",
        "l\n"
      ]
    },
    {
      "cell_type": "code",
      "execution_count": null,
      "metadata": {
        "id": "Fup99WKylii5",
        "outputId": "202c3bb1-c5bb-4ec6-c1ac-051056484242"
      },
      "outputs": [
        {
          "name": "stdout",
          "output_type": "stream",
          "text": [
            "[10, 44, 14, 96, 15, 76, 93, 67, 37, 27]\n",
            "[10, 14, 15, 27, 37, 44, 67, 76, 93, 96]\n"
          ]
        }
      ],
      "source": [
        "import random\n",
        "un_sorted = random.sample(range(100), 10)\n",
        "print(un_sorted)\n",
        "sorted_list = sorted(un_sorted)\n",
        "print(sorted_list)"
      ]
    },
    {
      "cell_type": "code",
      "execution_count": null,
      "metadata": {
        "id": "HJjkCmqxlii6",
        "outputId": "642735d2-c486-46ca-8786-e0cae3c476cb"
      },
      "outputs": [
        {
          "name": "stdout",
          "output_type": "stream",
          "text": [
            "True\n",
            "True\n",
            "True\n",
            "False\n"
          ]
        }
      ],
      "source": [
        "#any(iter) and all(iter)\n",
        "#any(iter) returns True if any element in the iterable is True\n",
        "\n",
        "\n",
        "l = [1, 2, 3, 4, 5]\n",
        "print(any(l))\n",
        "print(all(l))\n",
        "\n",
        "l = [0, 1, 2, 3, 4, 5]\n",
        "print(any(l))\n",
        "print(all(l))\n",
        "\n",
        "\n"
      ]
    },
    {
      "cell_type": "code",
      "execution_count": null,
      "metadata": {
        "id": "wbqlJpHUlii6",
        "outputId": "6deefd63-11ae-4b42-8c2c-a8ff58cace47"
      },
      "outputs": [
        {
          "name": "stdout",
          "output_type": "stream",
          "text": [
            "[(1, 'a'), (2, 'b'), (3, 'c')]\n"
          ]
        }
      ],
      "source": [
        "#zip function\n",
        "#zip function is used to combine two iterables element wise\n",
        "\n",
        "l1 = [1, 2, 3]\n",
        "l2 = ['a', 'b', 'c']\n",
        "z = zip(l1, l2)\n",
        "print(list(z))\n"
      ]
    }
  ],
  "metadata": {
    "kernelspec": {
      "display_name": "Python 3",
      "language": "python",
      "name": "python3"
    },
    "language_info": {
      "codemirror_mode": {
        "name": "ipython",
        "version": 3
      },
      "file_extension": ".py",
      "mimetype": "text/x-python",
      "name": "python",
      "nbconvert_exporter": "python",
      "pygments_lexer": "ipython3",
      "version": "3.12.3"
    },
    "colab": {
      "provenance": []
    }
  },
  "nbformat": 4,
  "nbformat_minor": 0
}